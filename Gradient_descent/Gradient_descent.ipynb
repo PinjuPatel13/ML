{
 "cells": [
  {
   "cell_type": "code",
   "execution_count": 11,
   "metadata": {},
   "outputs": [],
   "source": [
    "import numpy as np\n",
    "import pandas as pd\n",
    "import math\n",
    "from sklearn.linear_model import LinearRegression\n",
    "\n",
    "\n",
    "def predict_using_sklearn():\n",
    "    df = pd.read_csv('test_scores.csv')\n",
    "    r = LinearRegression()\n",
    "    r.fit(df[['math']],df.cs)\n",
    "    return r.coef_,r.intercept_\n",
    "    \n",
    "def gradient_descent(x,y):\n",
    "    m_curr = b_curr = 0\n",
    "    iterations =  1000000\n",
    "    n = len(x)\n",
    "    learning_rate = 0.0002\n",
    "    cost_previous = 0\n",
    "   \n",
    "    for i in range(iterations):\n",
    "        y_predicted = m_curr * x + b_curr\n",
    "        cost = (1/n) * sum([val **2 for val in (y-y_predicted)])\n",
    "        md = -(2/n) * sum(x*(y-y_predicted))\n",
    "        bd = -(2/n) * sum(y-y_predicted)\n",
    "        m_curr = m_curr-learning_rate * md\n",
    "        b_curr = b_curr-learning_rate * bd\n",
    "        if math.isclose(cost,cost_previous,rel_tol=1e-20):\n",
    "            break\n",
    "        cost_previous=cost\n",
    "        print('m {},b {},cost {},iterations {}'.format(m_curr,b_curr,cost,i))\n",
    "    return m_curr,b_curr\n",
    "\n",
    "\n",
    "if __name__==\"__main__\":\n",
    "    df = pd.read_csv('test_scores.csv')\n",
    "    x = np.array(df.math)\n",
    "    y = np.array(df.cs)\n",
    "    \n",
    "    m,b = gradient_descent(x,y)\n",
    "    print(\"Using Gradient_descent  function : coef {} Intercept {}\".format(m,b))\n",
    "    \n",
    "    m_sklearn,b_sklearn = predict_using_sklearn()\n",
    "    print(\"Using Sklearn : coef {} Intercept {}\".format(m_sklearn,b_sklearn))"
   ]
  }
 ],
 "metadata": {
  "kernelspec": {
   "display_name": "Python 3",
   "language": "python",
   "name": "python3"
  },
  "language_info": {
   "codemirror_mode": {
    "name": "ipython",
    "version": 3
   },
   "file_extension": ".py",
   "mimetype": "text/x-python",
   "name": "python",
   "nbconvert_exporter": "python",
   "pygments_lexer": "ipython3",
   "version": "3.8.10"
  }
 },
 "nbformat": 4,
 "nbformat_minor": 2
}
